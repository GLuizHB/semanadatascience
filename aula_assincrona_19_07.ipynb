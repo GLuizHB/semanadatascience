{
 "cells": [
  {
   "cell_type": "markdown",
   "metadata": {},
   "source": [
    "#### Sexta-feira (assincrona)\n",
    "\n",
    "### - Pesquisar Estatística\n",
    "    - Media\n",
    "    - Mediana\n",
    "    - Moda\n",
    "    - Desvio padrão\n",
    "    - Quartis"
   ]
  },
  {
   "cell_type": "markdown",
   "metadata": {},
   "source": [
    "### - Entrega\n",
    "\n",
    "instrutor.romulo@gmail.com\n",
    "- assunto: assincrono IA"
   ]
  }
 ],
 "metadata": {
  "language_info": {
   "name": "python"
  }
 },
 "nbformat": 4,
 "nbformat_minor": 2
}
