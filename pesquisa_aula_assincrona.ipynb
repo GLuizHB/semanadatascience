{
 "cells": [
  {
   "cell_type": "markdown",
   "metadata": {},
   "source": [
    "#### Orientação a Objeto\n",
    "\n",
    "A Programação Orientada a Objetos (POO) em Python é um paradigma baseado no conceito de classes e objetos. Vamos explorar os principais conceitos:\n",
    "\n",
    "- Classes: São tipos de dados definidos pelo desenvolvedor que atuam como modelos para objetos. Imagine classes como “formas de bolo”, e os bolos seriam os objetos.\n",
    "- Objetos: São instâncias de uma classe. Eles podem modelar entidades do mundo real (como Carro, Pessoa, Usuário) ou entidades abstratas (como Temperatura, Umidade, Medição, Configuração).\n",
    "- Métodos: São funções definidas dentro de uma classe que descrevem os comportamentos de um objeto.\n",
    "- Atributos: São os campos de dados de um objeto (também chamados de propriedades)."
   ]
  }
 ],
 "metadata": {
  "language_info": {
   "name": "python"
  }
 },
 "nbformat": 4,
 "nbformat_minor": 2
}
