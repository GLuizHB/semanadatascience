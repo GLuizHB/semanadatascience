{
 "cells": [
  {
   "cell_type": "markdown",
   "metadata": {},
   "source": [
    "# Lista"
   ]
  },
  {
   "cell_type": "markdown",
   "metadata": {},
   "source": [
    "#### A lista muda, mas a tupla não."
   ]
  },
  {
   "cell_type": "code",
   "execution_count": 1,
   "metadata": {},
   "outputs": [
    {
     "data": {
      "text/plain": [
       "list"
      ]
     },
     "execution_count": 1,
     "metadata": {},
     "output_type": "execute_result"
    }
   ],
   "source": [
    "# Colchetes \n",
    "tipos_imoveis = ['residencial','comercial','fazenda']\n",
    "\n",
    "type(tipos_imoveis)"
   ]
  },
  {
   "cell_type": "markdown",
   "metadata": {},
   "source": [
    "# Tupla"
   ]
  },
  {
   "cell_type": "code",
   "execution_count": 3,
   "metadata": {},
   "outputs": [
    {
     "data": {
      "text/plain": [
       "tuple"
      ]
     },
     "execution_count": 3,
     "metadata": {},
     "output_type": "execute_result"
    }
   ],
   "source": [
    "# parentezes\n",
    "tipos_imoveis = ('residencial','comercial','fazenda')\n",
    "\n",
    "type(tipos_imoveis)"
   ]
  },
  {
   "cell_type": "markdown",
   "metadata": {},
   "source": [
    "## Conjuntos"
   ]
  },
  {
   "cell_type": "code",
   "execution_count": 4,
   "metadata": {},
   "outputs": [
    {
     "data": {
      "text/plain": [
       "set"
      ]
     },
     "execution_count": 4,
     "metadata": {},
     "output_type": "execute_result"
    }
   ],
   "source": [
    "# chaves\n",
    "tipos_imoveis = {'residencial','comercial','fazenda'}\n",
    "\n",
    "type(tipos_imoveis)"
   ]
  },
  {
   "cell_type": "markdown",
   "metadata": {},
   "source": [
    "list (lista) - [] mutavel\n",
    "tupla (tupla) - () imutavel\n",
    "set (conjuntos) - {não rapetir}"
   ]
  },
  {
   "cell_type": "markdown",
   "metadata": {},
   "source": [
    "- Crie uma lista de vitória da seleção brasileira de futebol na copa do mundo\n",
    "\n",
    "- Crie uma tupla de fastfood\n",
    "\n",
    "- Crie um conjunto de itens de compra do supermercado"
   ]
  },
  {
   "cell_type": "code",
   "execution_count": 11,
   "metadata": {},
   "outputs": [
    {
     "name": "stdout",
     "output_type": "stream",
     "text": [
      "['1958', '1962', '1970', '1994', '2002']\n",
      "tipo de variavel <class 'list'>\n"
     ]
    }
   ],
   "source": [
    "# - Crie uma lista de vitória da seleção brasileira de futebol na copa do mundo\n",
    "vitorias = ['1958','1962','1970','1994','2002']\n",
    "\n",
    "print(vitorias)\n",
    "print(f'tipo de variavel',(type(vitorias)))"
   ]
  },
  {
   "cell_type": "code",
   "execution_count": 13,
   "metadata": {},
   "outputs": [
    {
     "name": "stdout",
     "output_type": "stream",
     "text": [
      "('mcdonalds', 'burguer king', 'bobs', 'subway')\n",
      "tipo de variavel <class 'tuple'>\n"
     ]
    }
   ],
   "source": [
    "# - Crie uma tupla de fastfood\n",
    "fast = ('mcdonalds','burguer king','bobs','subway')\n",
    "\n",
    "print(fast)\n",
    "print(f'tipo de variavel',(type(fast)))"
   ]
  },
  {
   "cell_type": "code",
   "execution_count": 14,
   "metadata": {},
   "outputs": [
    {
     "name": "stdout",
     "output_type": "stream",
     "text": [
      "{'feijao', 'pao', 'todynho', 'cachaça', 'arroz', 'carne'}\n",
      "tipo de variavel <class 'set'>\n"
     ]
    }
   ],
   "source": [
    "# - Crie um conjunto de itens de compra do supermercado\n",
    "compras = {'feijao','arroz','pao','cachaça','todynho','carne'}\n",
    "\n",
    "print(compras)\n",
    "print(f'tipo de variavel',(type(compras)))"
   ]
  },
  {
   "cell_type": "markdown",
   "metadata": {},
   "source": [
    "## Dicionário"
   ]
  },
  {
   "cell_type": "markdown",
   "metadata": {},
   "source": [
    "É uma coleção de pares chave-valor, onde cada chave é única. Você pode usar um dicionário para associar informações."
   ]
  },
  {
   "cell_type": "code",
   "execution_count": 20,
   "metadata": {},
   "outputs": [
    {
     "name": "stdout",
     "output_type": "stream",
     "text": [
      "3\n",
      "Taguatinga: 3\n",
      "Brazlandia: 5\n",
      "Ceilandia: 2\n",
      "Candangolandia: 4\n"
     ]
    }
   ],
   "source": [
    "# criar um dicionário com informações sobre fritas\n",
    "apartamentos = {\n",
    "    'Taguatinga': 3,\n",
    "    'Brazlandia': 5,\n",
    "    'Ceilandia': 2\n",
    "}\n",
    "\n",
    "# Acessondo valores no dicionario\n",
    "print(apartamentos['Taguatinga']) # Saida = 3 \n",
    "\n",
    "# Adcionando ao dicionário\n",
    "apartamentos['Candangolandia'] = 4\n",
    "\n",
    "# Iterando sobre as chaves e valores\n",
    "for apartamentos, quantidade in apartamentos.items():\n",
    "    print(f'{apartamentos}: {quantidade}')\n"
   ]
  },
  {
   "cell_type": "code",
   "execution_count": 28,
   "metadata": {},
   "outputs": [
    {
     "name": "stdout",
     "output_type": "stream",
     "text": [
      "Paradigma: 5\n",
      "Objeto: 6\n",
      "Classe: 7\n",
      "Método: 3\n",
      "Herança: 4\n",
      "Polimorfismo: 5\n",
      "Encapsulamento: 4\n"
     ]
    }
   ],
   "source": [
    "estudo_quinta = {\n",
    "    'Paradigma': 5,\n",
    "    'Objeto': 6,\n",
    "    'Classe': 7,\n",
    "    'Método': 3,\n",
    "    'Herança': 4,\n",
    "    'Polimorfismo': 5,\n",
    "    'Encapsulamento': 4\n",
    "}\n",
    "\n",
    "for estudo_quinta, quantidade in estudo_quinta.items():\n",
    "    print(f'{estudo_quinta}: {quantidade}')\n"
   ]
  },
  {
   "cell_type": "code",
   "execution_count": 23,
   "metadata": {},
   "outputs": [
    {
     "name": "stdout",
     "output_type": "stream",
     "text": [
      "Estatística: 20\n"
     ]
    }
   ],
   "source": [
    "estudo_sexta = {\n",
    "    'Estatística': 20\n",
    "}\n",
    "\n",
    "for estudo_sexta, quantidade in estudo_sexta.items():\n",
    "    print(f'{estudo_sexta}: {quantidade}')"
   ]
  }
 ],
 "metadata": {
  "kernelspec": {
   "display_name": ".venv",
   "language": "python",
   "name": "python3"
  },
  "language_info": {
   "codemirror_mode": {
    "name": "ipython",
    "version": 3
   },
   "file_extension": ".py",
   "mimetype": "text/x-python",
   "name": "python",
   "nbconvert_exporter": "python",
   "pygments_lexer": "ipython3",
   "version": "3.12.4"
  }
 },
 "nbformat": 4,
 "nbformat_minor": 2
}
