{
 "cells": [
  {
   "cell_type": "markdown",
   "metadata": {},
   "source": [
    "### Quinta-feira (assincrona)\n",
    "\n",
    "#### - Pesquisar Orientação a objetos\n",
    "\n",
    "- criar um slide Slide\n",
    "    - 1° Paradigma\n",
    "    - 2°  Objeto   (O que é. Pra que serve. Como fazer)\n",
    "        - Classe\n",
    "        - Atributo\n",
    "        - Herança\n",
    "        - Método\n",
    "        - Polimorfismo\n",
    "        - Encapsulamento"
   ]
  },
  {
   "cell_type": "markdown",
   "metadata": {},
   "source": [
    "### - Entrega\n",
    "\n",
    "instrutor.romulo@gmail.com\n",
    "- assunto: assincrono IA"
   ]
  },
  {
   "cell_type": "markdown",
   "metadata": {},
   "source": [
    "#### 1° Paradigma\n",
    "\n"
   ]
  }
 ],
 "metadata": {
  "language_info": {
   "name": "python"
  }
 },
 "nbformat": 4,
 "nbformat_minor": 2
}
